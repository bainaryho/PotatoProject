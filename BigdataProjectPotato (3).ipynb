{
  "nbformat": 4,
  "nbformat_minor": 0,
  "metadata": {
    "colab": {
      "provenance": []
    },
    "kernelspec": {
      "name": "python3",
      "display_name": "Python 3"
    },
    "language_info": {
      "name": "python"
    }
  },
  "cells": [
    {
      "cell_type": "code",
      "execution_count": null,
      "metadata": {
        "id": "-NOeJyhh0TYY",
        "colab": {
          "base_uri": "https://localhost:8080/"
        },
        "outputId": "12042b21-1296-4a55-d35d-6291b43b82aa"
      },
      "outputs": [
        {
          "output_type": "stream",
          "name": "stderr",
          "text": [
            "/usr/local/lib/python3.7/dist-packages/IPython/core/interactiveshell.py:3326: DtypeWarning: Columns (7) have mixed types.Specify dtype option on import or set low_memory=False.\n",
            "  exec(code_obj, self.user_global_ns, self.user_ns)\n"
          ]
        }
      ],
      "source": [
        "import pandas as pd\n",
        "import numpy as np\n",
        "#원천조사가격정보 csv파일 사용을 위해 20개의 csv파일을 ,로 구분되는 csv파일로 저장후\n",
        "#구글드라이브에 업데이트하여 런타임이 종료되어도 저장되는 csv파일로 저장.\n",
        "\n",
        "#공공데이터 농축산물원천조사가격정보 데이터프레임 생성\n",
        "df101 = pd.read_csv('/content/drive/MyDrive/Colab_Datas/원천조사가격정보_202101.csv')\n",
        "df102 = pd.read_csv('/content/drive/MyDrive/Colab_Datas/원천조사가격정보_202102.csv')\n",
        "df103 = pd.read_csv('/content/drive/MyDrive/Colab_Datas/원천조사가격정보_202103.csv')\n",
        "df104 = pd.read_csv('/content/drive/MyDrive/Colab_Datas/원천조사가격정보_202104.csv')\n",
        "df105 = pd.read_csv('/content/drive/MyDrive/Colab_Datas/원천조사가격정보_202105.csv')\n",
        "df106 = pd.read_csv('/content/drive/MyDrive/Colab_Datas/원천조사가격정보_202106.csv')\n",
        "df107 = pd.read_csv('/content/drive/MyDrive/Colab_Datas/원천조사가격정보_202107.csv')\n",
        "df108 = pd.read_csv('/content/drive/MyDrive/Colab_Datas/원천조사가격정보_202108.csv')\n",
        "df109 = pd.read_csv('/content/drive/MyDrive/Colab_Datas/원천조사가격정보_202109.csv')\n",
        "df110 = pd.read_csv('/content/drive/MyDrive/Colab_Datas/원천조사가격정보_202110.csv')\n",
        "df111 = pd.read_csv('/content/drive/MyDrive/Colab_Datas/원천조사가격정보_202111.csv')\n",
        "df112 = pd.read_csv('/content/drive/MyDrive/Colab_Datas/원천조사가격정보_202112.csv')\n",
        "df201 = pd.read_csv('/content/drive/MyDrive/Colab_Datas/원천조사가격정보_202201.csv')\n",
        "df202 = pd.read_csv('/content/drive/MyDrive/Colab_Datas/원천조사가격정보_202202.csv')\n",
        "df203 = pd.read_csv('/content/drive/MyDrive/Colab_Datas/원천조사가격정보_202203.csv')\n",
        "df204 = pd.read_csv('/content/drive/MyDrive/Colab_Datas/원천조사가격정보_202204.csv')\n",
        "df205 = pd.read_csv('/content/drive/MyDrive/Colab_Datas/원천조사가격정보_202205.csv')\n",
        "df206 = pd.read_csv('/content/drive/MyDrive/Colab_Datas/원천조사가격정보_202206.csv')\n",
        "df207 = pd.read_csv('/content/drive/MyDrive/Colab_Datas/원천조사가격정보_202207.csv')\n",
        "df208 = pd.read_csv('/content/drive/MyDrive/Colab_Datas/원천조사가격정보_202208.csv')"
      ]
    },
    {
      "cell_type": "code",
      "source": [
        "#데이터 프레임 리스트 생성\n",
        "dlist = [df101,df102,df103,df104,df105,df106,df107,df108,df109,df110,\n",
        "         df111,df112,df201,df202,df203,df204,df205,df206,df207,df208]\n",
        "\n",
        "#불필요한 열 삭제\n",
        "for i in dlist :\n",
        "  i.drop(['EXAMIN_SE_CODE','STD_PRDLST_CODE','EXAMIN_PRDLST_CODE','STD_SPCIES_CODE',\n",
        "              'EXAMIN_SPCIES_CODE','STD_UNIT_CODE','STD_UNIT_NM','AREA_CODE',\n",
        "              'STD_MRKT_CODE','EXAMIN_MRKT_CODE','STD_MRKT_NM','EXAMIN_MRKT_NM'],axis=1,inplace=True)"
      ],
      "metadata": {
        "id": "Mc6-OFwB2-6v"
      },
      "execution_count": null,
      "outputs": []
    },
    {
      "cell_type": "code",
      "source": [
        "#년도와 월을 구분하는 Month 열 추가\n",
        "# 년'월 형식\n",
        "df101['Month'] = \"1'1\"\n",
        "df102['Month'] = \"1'2\"\n",
        "df103['Month'] = \"1'3\"\n",
        "df104['Month'] = \"1'4\"\n",
        "df105['Month'] = \"1'5\"\n",
        "df106['Month'] = \"1'6\"\n",
        "df107['Month'] = \"1'7\"\n",
        "df108['Month'] = \"1'8\"\n",
        "df109['Month'] = \"1'9\"\n",
        "df110['Month'] = \"1'10\"\n",
        "df111['Month'] = \"1'11\"\n",
        "df112['Month'] = \"1'12\"\n",
        "df201['Month'] = \"2'1\"\n",
        "df202['Month'] = \"2'2\"\n",
        "df203['Month'] = \"2'3\"\n",
        "df204['Month'] = \"2'4\"\n",
        "df205['Month'] = \"2'5\"\n",
        "df206['Month'] = \"2'6\"\n",
        "df207['Month'] = \"2'7\"\n",
        "df208['Month'] = \"2'8\""
      ],
      "metadata": {
        "id": "EHnM_5CrD_kj"
      },
      "execution_count": null,
      "outputs": []
    },
    {
      "cell_type": "code",
      "source": [
        "#데이터 프레임 연결\n",
        "df =  pd.concat([df101,df102,df103,df104,df105,df106,df107,df108,df109,df110,\n",
        "         df111,df112,df201,df202,df203,df204,df205,df206,df207,df208],ignore_index = True) "
      ],
      "metadata": {
        "id": "x4OX-jshFBzq"
      },
      "execution_count": null,
      "outputs": []
    },
    {
      "cell_type": "code",
      "source": [
        "#(결측치)누락이 있는 행 삭제\n",
        "df.dropna()\n",
        "df.drop(['EXAMIN_PRDLST_NM','EXAMIN_SPCIES_NM'],axis=1,inplace=True)"
      ],
      "metadata": {
        "id": "n5dd1hAtFm47"
      },
      "execution_count": null,
      "outputs": []
    },
    {
      "cell_type": "code",
      "source": [
        "#소비자가격(100g) 감자 행 추출\n",
        "#P1소비자1등급 P2소비자2등급\n",
        "dfPotatoP1 = df.loc[df['STD_SPCIES_NM']=='수미'] #수미감자\n",
        "dfPotatoP1 = dfPotatoP1.loc[dfPotatoP1['EXAMIN_NM']=='소비자가격'] #소비자가격\n",
        "dfPotatoP1 = dfPotatoP1.loc[dfPotatoP1['EXAMIN_UNIT_NM']=='100G'] #100G\n",
        "dfPotatoP1 = dfPotatoP1.loc[dfPotatoP1['EXAMIN_GRAD_CODE']==1] # 1등급 감자\n",
        "\n",
        "dfPotatoP2 = df.loc[df['STD_SPCIES_NM']=='수미'] #수미감자\n",
        "dfPotatoP2 = dfPotatoP2.loc[dfPotatoP2['EXAMIN_NM']=='소비자가격'] #소비자가격\n",
        "dfPotatoP2 = dfPotatoP2.loc[dfPotatoP2['EXAMIN_UNIT_NM']=='100G'] #100G\n",
        "dfPotatoP2 = dfPotatoP2.loc[dfPotatoP2['EXAMIN_GRAD_CODE']==2] # 2등급 감자"
      ],
      "metadata": {
        "id": "g2eqW0bTF5kw"
      },
      "execution_count": null,
      "outputs": []
    },
    {
      "cell_type": "code",
      "source": [
        "#도매가격(20KG) 감자 행 추출\n",
        "#D1도매1등급 D2도매2등급\n",
        "dfPotatoD1 = df.loc[df['STD_SPCIES_NM']=='수미'] #수미감자의\n",
        "dfPotatoD1 = dfPotatoD1.loc[dfPotatoD1['EXAMIN_NM']=='도매가격'] #도매가격 중\n",
        "dfPotatoD1 = dfPotatoD1.loc[dfPotatoD1['EXAMIN_UNIT_NM']=='20KG'] #20KG\n",
        "dfPotatoD1 = dfPotatoD1.loc[dfPotatoD1['EXAMIN_GRAD_CODE']==1] # 1등급 감자만\n",
        "\n",
        "dfPotatoD2 = df.loc[df['STD_SPCIES_NM']=='수미'] #수미감자의\n",
        "dfPotatoD2 = dfPotatoD2.loc[dfPotatoD2['EXAMIN_NM']=='도매가격'] #도매가격 중\n",
        "dfPotatoD2 = dfPotatoD2.loc[dfPotatoD2['EXAMIN_UNIT_NM']=='20KG'] #20KG\n",
        "dfPotatoD2 = dfPotatoD2.loc[dfPotatoD2['EXAMIN_GRAD_CODE']==2] # 2등급 감자만"
      ],
      "metadata": {
        "id": "5abN66aVVhc6"
      },
      "execution_count": null,
      "outputs": []
    },
    {
      "cell_type": "code",
      "source": [
        "#소비자 가격 1등급 감자와 2등급 감자의 최근 2년간 가격 추세 그래프\n",
        "import seaborn as sns\n",
        "sns.set_style('darkgrid')\n",
        "sns.lineplot(data=dfPotatoP1,x='Month',y='TODAY_PRIC')\n",
        "sns.lineplot(data=dfPotatoP2,x='Month',y='TODAY_PRIC')"
      ],
      "metadata": {
        "colab": {
          "base_uri": "https://localhost:8080/",
          "height": 298
        },
        "id": "nVGKe-lrxDit",
        "outputId": "14dcd036-726d-4322-d086-60980807cb59"
      },
      "execution_count": null,
      "outputs": [
        {
          "output_type": "execute_result",
          "data": {
            "text/plain": [
              "<matplotlib.axes._subplots.AxesSubplot at 0x7f2b92595250>"
            ]
          },
          "metadata": {},
          "execution_count": 9
        },
        {
          "output_type": "display_data",
          "data": {
            "text/plain": [
              "<Figure size 432x288 with 1 Axes>"
            ],
            "image/png": "[encoded data removed]"
          },
          "metadata": {}
        }
      ]
    },
    {
      "cell_type": "code",
      "source": [
        "#도매 가격 1등급 감자와 2등급 감자의 최근 2년간 가격 추세 그래프\n",
        "import seaborn as sns\n",
        "sns.set_style('darkgrid') \n",
        "sns.lineplot(data=dfPotatoD1,x='Month',y='TODAY_PRIC')\n",
        "sns.lineplot(data=dfPotatoD2,x='Month',y='TODAY_PRIC')"
      ],
      "metadata": {
        "colab": {
          "base_uri": "https://localhost:8080/",
          "height": 297
        },
        "id": "w0yW7A4ByBTv",
        "outputId": "dd1b5508-eb70-4443-99ce-221d8f7ce262"
      },
      "execution_count": null,
      "outputs": [
        {
          "output_type": "execute_result",
          "data": {
            "text/plain": [
              "<matplotlib.axes._subplots.AxesSubplot at 0x7f2b9e047c50>"
            ]
          },
          "metadata": {},
          "execution_count": 10
        },
        {
          "output_type": "display_data",
          "data": {
            "text/plain": [
              "<Figure size 432x288 with 1 Axes>"
            ],
            "image/png": "[encoded data removed]"
          },
          "metadata": {}
        }
      ]
    },
    {
      "cell_type": "code",
      "source": [
        "#봄감자는 6월 상순부터 7월 상순에 집중출하가 이루어져 감자가격이 폭락하는 원인이 되고있다.\n",
        "#21년 봄감자 생산량은 379,671톤\n",
        "#22년 봄감자 생산량은 303,243톤\n",
        "#22년 봄감자는 전년에 비해 -20.1% 감소하였다. #출처 통계청 22년 봄감자 생산량 조사 결과(22.9.7)\n",
        "\n",
        "#이와 같은 생산량 저하가 22년 4~5월 간의 감자가격 폭등을 불러온 것으로 보인다.\n",
        "#21년의 감자 가격 또한 10월 이후로 가격이 오른 것이 보이는데 22년도 다르지 않을 것으로 예상 된다."
      ],
      "metadata": {
        "id": "i8FTIgvBpsOm"
      },
      "execution_count": null,
      "outputs": []
    },
    {
      "cell_type": "code",
      "source": [
        "#21년부터 22년 10월까지의 감자 반입량을 csv로 가공해 보았다.\n",
        "import pandas as pd\n",
        "dfCarryin = pd.read_csv('/content/drive/MyDrive/Colab_Datas/농업관측센터감자반입량동향.csv')\n",
        "#이를통해 기존 그래프에서 구할 수 없던 9월과 10월의 20KG당 가격을 예측해 보인다.\n",
        "import seaborn as sns\n",
        "sns.set_style('darkgrid') \n",
        "sns.lineplot(data=dfCarryin,x='Month',y='CARRY_IN') #감자 하루당 평균 반입량 월별 그래프 단위(톤/일)"
      ],
      "metadata": {
        "colab": {
          "base_uri": "https://localhost:8080/",
          "height": 297
        },
        "id": "kqF_xVl1wEiF",
        "outputId": "23d037f3-1d7d-48d5-a9c4-4b90f16d3173"
      },
      "execution_count": null,
      "outputs": [
        {
          "output_type": "execute_result",
          "data": {
            "text/plain": [
              "<matplotlib.axes._subplots.AxesSubplot at 0x7f6d67b941d0>"
            ]
          },
          "metadata": {},
          "execution_count": 71
        },
        {
          "output_type": "display_data",
          "data": {
            "text/plain": [
              "<Figure size 432x288 with 1 Axes>"
            ],
            "image/png": "[encoded data removed]"
          },
          "metadata": {}
        }
      ]
    },
    {
      "cell_type": "code",
      "source": [
        "#머신러닝을 돌리기로함. 이전날의 가격, 반입량(곡선화) 사용하여 각각의 그래프를 만들고 가격예측.\n",
        "\n",
        "#반입량 곡선화 과정\n",
        "import matplotlib.pyplot as plt\n",
        "%matplotlib inline\n",
        "\n",
        "#Month의 값을 머신러닝 가능하도록 정수형태로 인덱스열을 추가\n",
        "dfCarryin.index();\n",
        "\n",
        "dfCarryin.columns = ['Month', 'Price_20kg','Carry_in']\n",
        "\n",
        "\n",
        "#Data를 2차원배열로 나타내줌\n",
        "Data = dfCarryin[['Index','CARRY_IN']]\n",
        "Data = Data.to_numpy()\n",
        "\n",
        "# x와 y에 각각 2차원 배열의 행과 열을 넣어줌\n",
        "x = [Data[k][0] for k in range(len(Data))] \n",
        "y = [Data[k][1] for k in range(len(Data))]\n",
        "\n",
        "import matplotlib.pyplot as plt\n",
        "%matplotlib inline\n",
        "plt.rcParams['figure.dpi'] = 150\n",
        "plt.xlim(0,21)\n",
        "plt.ylim(0,450)\n",
        "plt.plot(x, y, \"x\")\n",
        "\n",
        "\n"
      ],
      "metadata": {
        "id": "0LjhUuHoUH4l",
        "colab": {
          "base_uri": "https://localhost:8080/",
          "height": 739
        },
        "outputId": "055c278c-94cb-4ee3-af54-cea6afe6d070"
      },
      "execution_count": null,
      "outputs": [
        {
          "output_type": "execute_result",
          "data": {
            "text/plain": [
              "   Month  Price_20kg  Carry_in\n",
              "0    1'1       40433       253\n",
              "1    1'2       42843       236\n",
              "2    1'3       45735       258\n",
              "3    1'4       47153       327\n",
              "4    1'5       30608       430\n",
              "5    1'6       19508       435\n",
              "6    1'7       21599       193\n",
              "7    1'8       29110       205\n",
              "8    1'9       30375       219\n",
              "9   1'10       28796       211\n",
              "10  1'11       33218       197\n",
              "11  1'12       37146       216\n",
              "12   2'1       42004       261\n",
              "13   2'2       46999       218\n",
              "14   2'3       56223       250\n",
              "15   2'4       66999       275\n",
              "16   2'5       56467       333\n",
              "17   2'6       35775       413\n",
              "18   2'7       33881       234\n",
              "19   2'8       38280       240\n",
              "20   2'9       38787       231\n",
              "21  2'10       38582       232"
            ],
            "text/html": [
              "\n",
              "  <div id=\"df-ea237023-17b5-404c-b035-bc7da09fb7d0\">\n",
              "    <div class=\"colab-df-container\">\n",
              "      <div>\n",
              "<style scoped>\n",
              "    .dataframe tbody tr th:only-of-type {\n",
              "        vertical-align: middle;\n",
              "    }\n",
              "\n",
              "    .dataframe tbody tr th {\n",
              "        vertical-align: top;\n",
              "    }\n",
              "\n",
              "    .dataframe thead th {\n",
              "        text-align: right;\n",
              "    }\n",
              "</style>\n",
              "<table border=\"1\" class=\"dataframe\">\n",
              "  <thead>\n",
              "    <tr style=\"text-align: right;\">\n",
              "      <th></th>\n",
              "      <th>Month</th>\n",
              "      <th>Price_20kg</th>\n",
              "      <th>Carry_in</th>\n",
              "    </tr>\n",
              "  </thead>\n",
              "  <tbody>\n",
              "    <tr>\n",
              "      <th>0</th>\n",
              "      <td>1'1</td>\n",
              "      <td>40433</td>\n",
              "      <td>253</td>\n",
              "    </tr>\n",
              "    <tr>\n",
              "      <th>1</th>\n",
              "      <td>1'2</td>\n",
              "      <td>42843</td>\n",
              "      <td>236</td>\n",
              "    </tr>\n",
              "    <tr>\n",
              "      <th>2</th>\n",
              "      <td>1'3</td>\n",
              "      <td>45735</td>\n",
              "      <td>258</td>\n",
              "    </tr>\n",
              "    <tr>\n",
              "      <th>3</th>\n",
              "      <td>1'4</td>\n",
              "      <td>47153</td>\n",
              "      <td>327</td>\n",
              "    </tr>\n",
              "    <tr>\n",
              "      <th>4</th>\n",
              "      <td>1'5</td>\n",
              "      <td>30608</td>\n",
              "      <td>430</td>\n",
              "    </tr>\n",
              "    <tr>\n",
              "      <th>5</th>\n",
              "      <td>1'6</td>\n",
              "      <td>19508</td>\n",
              "      <td>435</td>\n",
              "    </tr>\n",
              "    <tr>\n",
              "      <th>6</th>\n",
              "      <td>1'7</td>\n",
              "      <td>21599</td>\n",
              "      <td>193</td>\n",
              "    </tr>\n",
              "    <tr>\n",
              "      <th>7</th>\n",
              "      <td>1'8</td>\n",
              "      <td>29110</td>\n",
              "      <td>205</td>\n",
              "    </tr>\n",
              "    <tr>\n",
              "      <th>8</th>\n",
              "      <td>1'9</td>\n",
              "      <td>30375</td>\n",
              "      <td>219</td>\n",
              "    </tr>\n",
              "    <tr>\n",
              "      <th>9</th>\n",
              "      <td>1'10</td>\n",
              "      <td>28796</td>\n",
              "      <td>211</td>\n",
              "    </tr>\n",
              "    <tr>\n",
              "      <th>10</th>\n",
              "      <td>1'11</td>\n",
              "      <td>33218</td>\n",
              "      <td>197</td>\n",
              "    </tr>\n",
              "    <tr>\n",
              "      <th>11</th>\n",
              "      <td>1'12</td>\n",
              "      <td>37146</td>\n",
              "      <td>216</td>\n",
              "    </tr>\n",
              "    <tr>\n",
              "      <th>12</th>\n",
              "      <td>2'1</td>\n",
              "      <td>42004</td>\n",
              "      <td>261</td>\n",
              "    </tr>\n",
              "    <tr>\n",
              "      <th>13</th>\n",
              "      <td>2'2</td>\n",
              "      <td>46999</td>\n",
              "      <td>218</td>\n",
              "    </tr>\n",
              "    <tr>\n",
              "      <th>14</th>\n",
              "      <td>2'3</td>\n",
              "      <td>56223</td>\n",
              "      <td>250</td>\n",
              "    </tr>\n",
              "    <tr>\n",
              "      <th>15</th>\n",
              "      <td>2'4</td>\n",
              "      <td>66999</td>\n",
              "      <td>275</td>\n",
              "    </tr>\n",
              "    <tr>\n",
              "      <th>16</th>\n",
              "      <td>2'5</td>\n",
              "      <td>56467</td>\n",
              "      <td>333</td>\n",
              "    </tr>\n",
              "    <tr>\n",
              "      <th>17</th>\n",
              "      <td>2'6</td>\n",
              "      <td>35775</td>\n",
              "      <td>413</td>\n",
              "    </tr>\n",
              "    <tr>\n",
              "      <th>18</th>\n",
              "      <td>2'7</td>\n",
              "      <td>33881</td>\n",
              "      <td>234</td>\n",
              "    </tr>\n",
              "    <tr>\n",
              "      <th>19</th>\n",
              "      <td>2'8</td>\n",
              "      <td>38280</td>\n",
              "      <td>240</td>\n",
              "    </tr>\n",
              "    <tr>\n",
              "      <th>20</th>\n",
              "      <td>2'9</td>\n",
              "      <td>38787</td>\n",
              "      <td>231</td>\n",
              "    </tr>\n",
              "    <tr>\n",
              "      <th>21</th>\n",
              "      <td>2'10</td>\n",
              "      <td>38582</td>\n",
              "      <td>232</td>\n",
              "    </tr>\n",
              "  </tbody>\n",
              "</table>\n",
              "</div>\n",
              "      <button class=\"colab-df-convert\" onclick=\"convertToInteractive('df-ea237023-17b5-404c-b035-bc7da09fb7d0')\"\n",
              "              title=\"Convert this dataframe to an interactive table.\"\n",
              "              style=\"display:none;\">\n",
              "        \n",
              "  <svg xmlns=\"http://www.w3.org/2000/svg\" height=\"24px\"viewBox=\"0 0 24 24\"\n",
              "       width=\"24px\">\n",
              "    <path d=\"M0 0h24v24H0V0z\" fill=\"none\"/>\n",
              "    <path d=\"M18.56 5.44l.94 2.06.94-2.06 2.06-.94-2.06-.94-.94-2.06-.94 2.06-2.06.94zm-11 1L8.5 8.5l.94-2.06 2.06-.94-2.06-.94L8.5 2.5l-.94 2.06-2.06.94zm10 10l.94 2.06.94-2.06 2.06-.94-2.06-.94-.94-2.06-.94 2.06-2.06.94z\"/><path d=\"M17.41 7.96l-1.37-1.37c-.4-.4-.92-.59-1.43-.59-.52 0-1.04.2-1.43.59L10.3 9.45l-7.72 7.72c-.78.78-.78 2.05 0 2.83L4 21.41c.39.39.9.59 1.41.59.51 0 1.02-.2 1.41-.59l7.78-7.78 2.81-2.81c.8-.78.8-2.07 0-2.86zM5.41 20L4 18.59l7.72-7.72 1.47 1.35L5.41 20z\"/>\n",
              "  </svg>\n",
              "      </button>\n",
              "      \n",
              "  <style>\n",
              "    .colab-df-container {\n",
              "      display:flex;\n",
              "      flex-wrap:wrap;\n",
              "      gap: 12px;\n",
              "    }\n",
              "\n",
              "    .colab-df-convert {\n",
              "      background-color: #E8F0FE;\n",
              "      border: none;\n",
              "      border-radius: 50%;\n",
              "      cursor: pointer;\n",
              "      display: none;\n",
              "      fill: #1967D2;\n",
              "      height: 32px;\n",
              "      padding: 0 0 0 0;\n",
              "      width: 32px;\n",
              "    }\n",
              "\n",
              "    .colab-df-convert:hover {\n",
              "      background-color: #E2EBFA;\n",
              "      box-shadow: 0px 1px 2px rgba(60, 64, 67, 0.3), 0px 1px 3px 1px rgba(60, 64, 67, 0.15);\n",
              "      fill: #174EA6;\n",
              "    }\n",
              "\n",
              "    [theme=dark] .colab-df-convert {\n",
              "      background-color: #3B4455;\n",
              "      fill: #D2E3FC;\n",
              "    }\n",
              "\n",
              "    [theme=dark] .colab-df-convert:hover {\n",
              "      background-color: #434B5C;\n",
              "      box-shadow: 0px 1px 3px 1px rgba(0, 0, 0, 0.15);\n",
              "      filter: drop-shadow(0px 1px 2px rgba(0, 0, 0, 0.3));\n",
              "      fill: #FFFFFF;\n",
              "    }\n",
              "  </style>\n",
              "\n",
              "      <script>\n",
              "        const buttonEl =\n",
              "          document.querySelector('#df-ea237023-17b5-404c-b035-bc7da09fb7d0 button.colab-df-convert');\n",
              "        buttonEl.style.display =\n",
              "          google.colab.kernel.accessAllowed ? 'block' : 'none';\n",
              "\n",
              "        async function convertToInteractive(key) {\n",
              "          const element = document.querySelector('#df-ea237023-17b5-404c-b035-bc7da09fb7d0');\n",
              "          const dataTable =\n",
              "            await google.colab.kernel.invokeFunction('convertToInteractive',\n",
              "                                                     [key], {});\n",
              "          if (!dataTable) return;\n",
              "\n",
              "          const docLinkHtml = 'Like what you see? Visit the ' +\n",
              "            '<a target=\"_blank\" href=https://colab.research.google.com/notebooks/data_table.ipynb>data table notebook</a>'\n",
              "            + ' to learn more about interactive tables.';\n",
              "          element.innerHTML = '';\n",
              "          dataTable['output_type'] = 'display_data';\n",
              "          await google.colab.output.renderOutput(dataTable, element);\n",
              "          const docLink = document.createElement('div');\n",
              "          docLink.innerHTML = docLinkHtml;\n",
              "          element.appendChild(docLink);\n",
              "        }\n",
              "      </script>\n",
              "    </div>\n",
              "  </div>\n",
              "  "
            ]
          },
          "metadata": {},
          "execution_count": 72
        }
      ]
    },
    {
      "cell_type": "code",
      "source": [
        "\n",
        "X = [[x[m]] for m in range(len(Data))]\n",
        "\n",
        "from sklearn import linear_model\n",
        "reg = linear_model.LinearRegression()\n",
        "reg.fit(X,y)\n",
        "print(reg.intercept_)\n",
        "print(reg.coef_)\n",
        "\n",
        "xp = [0.1*k for k in range(101)]\n",
        "Xp = [[xp[m]] for m in range(101)]\n",
        "yp = reg.predict(Xp)\n",
        "\n",
        "plt.xlim(0,21)\n",
        "plt.ylim(0,450)\n",
        "plt.plot(x, y, \"x\")\n",
        "plt.plot(xp, yp)"
      ],
      "metadata": {
        "id": "qbebAr85YbU0"
      },
      "execution_count": null,
      "outputs": []
    }
  ]
}