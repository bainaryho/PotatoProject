{
  "nbformat": 4,
  "nbformat_minor": 0,
  "metadata": {
    "colab": {
      "provenance": [],
      "collapsed_sections": []
    },
    "kernelspec": {
      "name": "python3",
      "display_name": "Python 3"
    },
    "language_info": {
      "name": "python"
    }
  },
  "cells": [
    {
      "cell_type": "code",
      "execution_count": 6,
      "metadata": {
        "id": "-NOeJyhh0TYY"
      },
      "outputs": [],
      "source": [
        "import pandas as pd\n",
        "import numpy as np\n",
        "\n",
        "#공공데이터 농축산물원천조사가격정보 데이터프레임 생성\n",
        "df101 = pd.read_csv('/content/price_data/원천조사가격정보_202101.csv')\n",
        "df102 = pd.read_csv('/content/price_data/원천조사가격정보_202102.csv')\n",
        "df103 = pd.read_csv('/content/price_data/원천조사가격정보_202103.csv')\n",
        "df104 = pd.read_csv('/content/price_data/원천조사가격정보_202104.csv')\n",
        "df105 = pd.read_csv('/content/price_data/원천조사가격정보_202105.csv')\n",
        "df106 = pd.read_csv('/content/price_data/원천조사가격정보_202106.csv')\n",
        "df107 = pd.read_csv('/content/price_data/원천조사가격정보_202107.csv')\n",
        "df108 = pd.read_csv('/content/price_data/원천조사가격정보_202108.csv')\n",
        "df109 = pd.read_csv('/content/price_data/원천조사가격정보_202109.csv')\n",
        "df110 = pd.read_csv('/content/price_data/원천조사가격정보_202110.csv')\n",
        "df111 = pd.read_csv('/content/price_data/원천조사가격정보_202111.csv')\n",
        "df112 = pd.read_csv('/content/price_data/원천조사가격정보_202112.csv')\n",
        "df201 = pd.read_csv('/content/price_data/원천조사가격정보_202201.csv')\n",
        "df202 = pd.read_csv('/content/price_data/원천조사가격정보_202202.csv')\n",
        "df203 = pd.read_csv('/content/price_data/원천조사가격정보_202203.csv')\n",
        "df204 = pd.read_csv('/content/price_data/원천조사가격정보_202204.csv')\n",
        "df205 = pd.read_csv('/content/price_data/원천조사가격정보_202205.csv')\n",
        "df206 = pd.read_csv('/content/price_data/원천조사가격정보_202206.csv')\n",
        "df207 = pd.read_csv('/content/price_data/원천조사가격정보_202207.csv')\n",
        "df208 = pd.read_csv('/content/price_data/원천조사가격정보_202208.csv')"
      ]
    },
    {
      "cell_type": "code",
      "source": [
        "#데이터 프레임 리스트 생성\n",
        "dlist = [df101,df102,df103,df104,df105,df106,df107,df108,df109,df110,\n",
        "         df111,df112,df201,df202,df203,df204,df205,df206,df207,df208]\n",
        "\n",
        "#불필요한 열 삭제\n",
        "for i in dlist :\n",
        "  i.drop(['EXAMIN_SE_CODE','STD_PRDLST_CODE','EXAMIN_PRDLST_CODE','STD_SPCIES_CODE',\n",
        "              'EXAMIN_SPCIES_CODE','STD_UNIT_CODE','STD_UNIT_NM','BFRT_PRIC','AREA_CODE',\n",
        "              'STD_MRKT_CODE','EXAMIN_MRKT_CODE','STD_MRKT_NM','EXAMIN_MRKT_NM'],axis=1,inplace=True)"
      ],
      "metadata": {
        "id": "Mc6-OFwB2-6v"
      },
      "execution_count": null,
      "outputs": []
    },
    {
      "cell_type": "code",
      "source": [
        "#년도와 월을 구분하는 Month 열 추가\n",
        "df101['Month'] = \"21.01\"\n",
        "df102['Month'] = \"21.02\"\n",
        "df103['Month'] = \"21.03\"\n",
        "df104['Month'] = \"21.04\"\n",
        "df105['Month'] = \"21.05\"\n",
        "df106['Month'] = \"21.06\"\n",
        "df107['Month'] = \"21.07\"\n",
        "df108['Month'] = \"21.08\"\n",
        "df109['Month'] = \"21.09\"\n",
        "df110['Month'] = \"21.10\"\n",
        "df111['Month'] = \"21.11\"\n",
        "df112['Month'] = \"21.12\"\n",
        "df201['Month'] = \"22.01\"\n",
        "df202['Month'] = \"22.02\"\n",
        "df203['Month'] = \"22.03\"\n",
        "df204['Month'] = \"22.04\"\n",
        "df205['Month'] = \"22.05\"\n",
        "df206['Month'] = \"22.06\"\n",
        "df207['Month'] = \"22.07\"\n",
        "df208['Month'] = \"22.08\""
      ],
      "metadata": {
        "id": "EHnM_5CrD_kj"
      },
      "execution_count": 10,
      "outputs": []
    },
    {
      "cell_type": "code",
      "source": [
        "#데이터 프레임 연결\n",
        "df =  pd.concat([df101,df102,df103,df104,df105,df106,df107,df108,df109,df110,\n",
        "         df111,df112,df201,df202,df203,df204,df205,df206,df207,df208],ignore_index = True) "
      ],
      "metadata": {
        "id": "x4OX-jshFBzq"
      },
      "execution_count": 19,
      "outputs": []
    },
    {
      "cell_type": "code",
      "source": [
        "#(결측치)누락이 있는 행 삭제\n",
        "df.dropna()\n",
        "df.drop(['EXAMIN_PRDLST_NM','EXAMIN_SPCIES_NM'],axis=1,inplace=True)"
      ],
      "metadata": {
        "id": "n5dd1hAtFm47"
      },
      "execution_count": null,
      "outputs": []
    },
    {
      "cell_type": "code",
      "source": [
        "#감자 행 추출\n",
        "dfPotato = df.loc[df['STD_SPCIES_NM']=='수미']\n",
        "dfPotato"
      ],
      "metadata": {
        "id": "g2eqW0bTF5kw"
      },
      "execution_count": null,
      "outputs": []
    }
  ]
}